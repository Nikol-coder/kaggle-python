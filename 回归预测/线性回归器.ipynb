{
 "cells": [
  {
   "cell_type": "code",
   "execution_count": 1,
   "id": "7b75f0bd",
   "metadata": {},
   "outputs": [
    {
     "name": "stdout",
     "output_type": "stream",
     "text": [
      ".. _boston_dataset:\n",
      "\n",
      "Boston house prices dataset\n",
      "---------------------------\n",
      "\n",
      "**Data Set Characteristics:**  \n",
      "\n",
      "    :Number of Instances: 506 \n",
      "\n",
      "    :Number of Attributes: 13 numeric/categorical predictive. Median Value (attribute 14) is usually the target.\n",
      "\n",
      "    :Attribute Information (in order):\n",
      "        - CRIM     per capita crime rate by town\n",
      "        - ZN       proportion of residential land zoned for lots over 25,000 sq.ft.\n",
      "        - INDUS    proportion of non-retail business acres per town\n",
      "        - CHAS     Charles River dummy variable (= 1 if tract bounds river; 0 otherwise)\n",
      "        - NOX      nitric oxides concentration (parts per 10 million)\n",
      "        - RM       average number of rooms per dwelling\n",
      "        - AGE      proportion of owner-occupied units built prior to 1940\n",
      "        - DIS      weighted distances to five Boston employment centres\n",
      "        - RAD      index of accessibility to radial highways\n",
      "        - TAX      full-value property-tax rate per $10,000\n",
      "        - PTRATIO  pupil-teacher ratio by town\n",
      "        - B        1000(Bk - 0.63)^2 where Bk is the proportion of blacks by town\n",
      "        - LSTAT    % lower status of the population\n",
      "        - MEDV     Median value of owner-occupied homes in $1000's\n",
      "\n",
      "    :Missing Attribute Values: None\n",
      "\n",
      "    :Creator: Harrison, D. and Rubinfeld, D.L.\n",
      "\n",
      "This is a copy of UCI ML housing dataset.\n",
      "https://archive.ics.uci.edu/ml/machine-learning-databases/housing/\n",
      "\n",
      "\n",
      "This dataset was taken from the StatLib library which is maintained at Carnegie Mellon University.\n",
      "\n",
      "The Boston house-price data of Harrison, D. and Rubinfeld, D.L. 'Hedonic\n",
      "prices and the demand for clean air', J. Environ. Economics & Management,\n",
      "vol.5, 81-102, 1978.   Used in Belsley, Kuh & Welsch, 'Regression diagnostics\n",
      "...', Wiley, 1980.   N.B. Various transformations are used in the table on\n",
      "pages 244-261 of the latter.\n",
      "\n",
      "The Boston house-price data has been used in many machine learning papers that address regression\n",
      "problems.   \n",
      "     \n",
      ".. topic:: References\n",
      "\n",
      "   - Belsley, Kuh & Welsch, 'Regression diagnostics: Identifying Influential Data and Sources of Collinearity', Wiley, 1980. 244-261.\n",
      "   - Quinlan,R. (1993). Combining Instance-Based and Model-Based Learning. In Proceedings on the Tenth International Conference of Machine Learning, 236-243, University of Massachusetts, Amherst. Morgan Kaufmann.\n",
      "\n"
     ]
    }
   ],
   "source": [
    "#回归问题预测的目标是连续变量\n",
    "\n",
    "#加载数据\n",
    "from sklearn.datasets import load_boston\n",
    "boston=load_boston()\n",
    "print(boston.DESCR)"
   ]
  },
  {
   "cell_type": "code",
   "execution_count": 2,
   "id": "11bae565",
   "metadata": {},
   "outputs": [
    {
     "name": "stdout",
     "output_type": "stream",
     "text": [
      "max target value 50.0\n",
      "min target value 5.0\n",
      "average target value 22.532806324110677\n",
      "[[9.29900e-02 0.00000e+00 2.56500e+01 ... 1.91000e+01 3.78090e+02\n",
      "  1.79300e+01]\n",
      " [2.50461e+01 0.00000e+00 1.81000e+01 ... 2.02000e+01 3.96900e+02\n",
      "  2.67700e+01]\n",
      " [7.05042e+00 0.00000e+00 1.81000e+01 ... 2.02000e+01 2.52000e+00\n",
      "  2.32900e+01]\n",
      " ...\n",
      " [1.06120e-01 3.00000e+01 4.93000e+00 ... 1.66000e+01 3.94620e+02\n",
      "  1.24000e+01]\n",
      " [2.44668e+00 0.00000e+00 1.95800e+01 ... 1.47000e+01 8.86300e+01\n",
      "  1.61400e+01]\n",
      " [2.21880e-01 2.00000e+01 6.96000e+00 ... 1.86000e+01 3.90770e+02\n",
      "  6.58000e+00]]\n",
      "[20.5  5.6 13.4 12.6 21.2 19.7 32.4 14.8 33.  21.4 30.1 36.   8.4 21.6\n",
      " 16.3 23.  14.9 14.1 31.1 11.9 12.7 27.9 20.8 19.6 32.  21.9 23.2 23.8\n",
      " 10.8 34.9 19.1 26.5 10.5 17.5 24.  36.1 25.3 13.8 27.5 24.6 12.7  9.5\n",
      " 32.7 13.8 23.5 17.7 15.6 22.5 26.2 20.6 14.1 33.3 15.2 14.9 21.6 17.2\n",
      " 23.1 11.7 20.6 22.2 23.1 18.4 43.8 21.1 14.9 28.7 23.3 13.8 19.7 30.5\n",
      " 19.  19.1 19.  26.6 17.5 21.9 13.8  8.8 19.4 28.1 21.  11.8  7.2 24.1\n",
      " 20.  18.9 50.  13.3 50.  41.3 28.7 19.9 16.5 10.9 13.4 32.9 20.6 25.\n",
      " 19.5 19.9 15.4 21.7 31.5 27.1  8.3 13.6  8.8 22.5  7.5 28.6 50.  11.5\n",
      " 13.5 24.4 36.2 21.4 18.5 22.6 24.8 19.3 29.8 16.4  8.4 24.7 20.1 13.1\n",
      " 35.2]\n"
     ]
    }
   ],
   "source": [
    "#数据分割\n",
    "from sklearn.model_selection import train_test_split\n",
    "import numpy as np\n",
    "x=boston.data\n",
    "y=boston.target\n",
    "\n",
    "x_train, x_test, y_train, y_test=train_test_split(x,y,test_size=0.25,random_state=33)\n",
    "\n",
    "#分析目标值的差异\n",
    "print('max target value',np.max(boston.target))\n",
    "print('min target value',np.min(boston.target))\n",
    "print('average target value',np.mean(boston.target))\n",
    "print(x_test)\n",
    "print(y_test)"
   ]
  },
  {
   "cell_type": "code",
   "execution_count": 3,
   "id": "904db505",
   "metadata": {},
   "outputs": [],
   "source": [
    "#由上述知房价之间差异大，所以进行标准化\n",
    "from sklearn.preprocessing import StandardScaler\n",
    "\n",
    "ss_x=StandardScaler()\n",
    "ss_y=StandardScaler()\n",
    "\n",
    "x_train=ss_x.fit_transform(x_train)\n",
    "x_test=ss_x.transform(x_test)\n",
    "#先做数据预处理，将数据变成1列\n",
    "#numpy.arange(n).reshape(a, b)    依次生成n个自然数，并且以a行b列的数组形式显示\n",
    "#numpy中reshape函数的三种常见相关用法 reshape(1,-1)转化成1行： reshape(2,-1)转换成两行：\n",
    "#reshape(-1,1)转换成1列： reshape(-1,2)转化成两列\n",
    "y_train = np.array(y_train).reshape(-1, 1)\n",
    "y_train=ss_y.fit_transform(y_train)\n",
    "y_test = np.array(y_test).reshape(-1, 1)\n",
    "y_test=ss_y.transform(y_test)"
   ]
  },
  {
   "cell_type": "code",
   "execution_count": 5,
   "id": "abc8313c",
   "metadata": {},
   "outputs": [
    {
     "name": "stderr",
     "output_type": "stream",
     "text": [
      "E:\\anaconda\\lib\\site-packages\\sklearn\\utils\\validation.py:63: DataConversionWarning: A column-vector y was passed when a 1d array was expected. Please change the shape of y to (n_samples, ), for example using ravel().\n",
      "  return f(*args, **kwargs)\n"
     ]
    }
   ],
   "source": [
    "#进行预测 \n",
    "#使用线性回归 LinearRegression\n",
    "from sklearn.linear_model import LinearRegression\n",
    "lr=LinearRegression()\n",
    "lr.fit(x_train,y_train)\n",
    "lr_y_predict=lr.predict(x_test)\n",
    "\n",
    "#使用SGDRegressor进行预测\n",
    "from sklearn.linear_model import SGDRegressor\n",
    "sgdr=SGDRegressor()\n",
    "sgdr.fit(x_train,y_train)\n",
    "sgdr_y_predict=sgdr.predict(x_test)"
   ]
  },
  {
   "cell_type": "code",
   "execution_count": 7,
   "id": "32bca8dd",
   "metadata": {},
   "outputs": [
    {
     "name": "stdout",
     "output_type": "stream",
     "text": [
      "default measurement of LinearRegression: 0.675795501452948\n",
      "R_squared of LinearRegression: 0.675795501452948\n",
      "mean squared error of LinearRegression: 25.139236520353457\n",
      "mean absolute error of LinearRegression: 3.5325325437053983\n"
     ]
    }
   ],
   "source": [
    "#性能评价 使用标准器中的inverse_transform函数还原真实的结果，将标准化数据逆向处理\n",
    "print('default measurement of LinearRegression:',lr.score(x_test,y_test))\n",
    "\n",
    "#从sklearn导入 r2_score, mean_squared_error,以及mean_absolute_error\n",
    "from sklearn.metrics import r2_score,mean_squared_error,mean_absolute_error\n",
    "\n",
    "print('R_squared of LinearRegression:',r2_score(y_test,lr_y_predict))\n",
    "\n",
    "print('mean squared error of LinearRegression:',mean_squared_error(ss_y.inverse_transform(y_test),ss_y.inverse_transform(lr_y_predict)))\n",
    "\n",
    "print('mean absolute error of LinearRegression:',mean_absolute_error(ss_y.inverse_transform(y_test),ss_y.inverse_transform(lr_y_predict)))\n"
   ]
  },
  {
   "cell_type": "code",
   "execution_count": 8,
   "id": "054b3503",
   "metadata": {},
   "outputs": [
    {
     "name": "stdout",
     "output_type": "stream",
     "text": [
      "default measurement of SGDRegressor: 0.6642925134346531\n",
      "R_squared of SGDRegressor: 0.6642925134346531\n",
      "mean squared error of SGDRegressor: 26.031193102630002\n",
      "mean absolute error of SGDRegressor: 3.5053762801295836\n"
     ]
    }
   ],
   "source": [
    "print('default measurement of SGDRegressor:',sgdr.score(x_test,y_test))\n",
    "\n",
    "#从sklearn导入 r2_score, mean_squared_error,以及mean_absolute_error\n",
    "from sklearn.metrics import r2_score,mean_squared_error,mean_absolute_error\n",
    "\n",
    "print('R_squared of SGDRegressor:',r2_score(y_test,sgdr_y_predict))\n",
    "\n",
    "print('mean squared error of SGDRegressor:',mean_squared_error(ss_y.inverse_transform(y_test),ss_y.inverse_transform(sgdr_y_predict)))\n",
    "\n",
    "print('mean absolute error of SGDRegressor:',mean_absolute_error(ss_y.inverse_transform(y_test),ss_y.inverse_transform(sgdr_y_predict)))\n"
   ]
  },
  {
   "cell_type": "code",
   "execution_count": null,
   "id": "1ccb1af7",
   "metadata": {},
   "outputs": [],
   "source": []
  }
 ],
 "metadata": {
  "kernelspec": {
   "display_name": "Python 3",
   "language": "python",
   "name": "python3"
  },
  "language_info": {
   "codemirror_mode": {
    "name": "ipython",
    "version": 3
   },
   "file_extension": ".py",
   "mimetype": "text/x-python",
   "name": "python",
   "nbconvert_exporter": "python",
   "pygments_lexer": "ipython3",
   "version": "3.8.8"
  }
 },
 "nbformat": 4,
 "nbformat_minor": 5
}
