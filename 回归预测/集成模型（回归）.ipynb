{
 "cells": [
  {
   "cell_type": "code",
   "execution_count": 1,
   "id": "65c2a2f4",
   "metadata": {},
   "outputs": [
    {
     "name": "stdout",
     "output_type": "stream",
     "text": [
      ".. _boston_dataset:\n",
      "\n",
      "Boston house prices dataset\n",
      "---------------------------\n",
      "\n",
      "**Data Set Characteristics:**  \n",
      "\n",
      "    :Number of Instances: 506 \n",
      "\n",
      "    :Number of Attributes: 13 numeric/categorical predictive. Median Value (attribute 14) is usually the target.\n",
      "\n",
      "    :Attribute Information (in order):\n",
      "        - CRIM     per capita crime rate by town\n",
      "        - ZN       proportion of residential land zoned for lots over 25,000 sq.ft.\n",
      "        - INDUS    proportion of non-retail business acres per town\n",
      "        - CHAS     Charles River dummy variable (= 1 if tract bounds river; 0 otherwise)\n",
      "        - NOX      nitric oxides concentration (parts per 10 million)\n",
      "        - RM       average number of rooms per dwelling\n",
      "        - AGE      proportion of owner-occupied units built prior to 1940\n",
      "        - DIS      weighted distances to five Boston employment centres\n",
      "        - RAD      index of accessibility to radial highways\n",
      "        - TAX      full-value property-tax rate per $10,000\n",
      "        - PTRATIO  pupil-teacher ratio by town\n",
      "        - B        1000(Bk - 0.63)^2 where Bk is the proportion of blacks by town\n",
      "        - LSTAT    % lower status of the population\n",
      "        - MEDV     Median value of owner-occupied homes in $1000's\n",
      "\n",
      "    :Missing Attribute Values: None\n",
      "\n",
      "    :Creator: Harrison, D. and Rubinfeld, D.L.\n",
      "\n",
      "This is a copy of UCI ML housing dataset.\n",
      "https://archive.ics.uci.edu/ml/machine-learning-databases/housing/\n",
      "\n",
      "\n",
      "This dataset was taken from the StatLib library which is maintained at Carnegie Mellon University.\n",
      "\n",
      "The Boston house-price data of Harrison, D. and Rubinfeld, D.L. 'Hedonic\n",
      "prices and the demand for clean air', J. Environ. Economics & Management,\n",
      "vol.5, 81-102, 1978.   Used in Belsley, Kuh & Welsch, 'Regression diagnostics\n",
      "...', Wiley, 1980.   N.B. Various transformations are used in the table on\n",
      "pages 244-261 of the latter.\n",
      "\n",
      "The Boston house-price data has been used in many machine learning papers that address regression\n",
      "problems.   \n",
      "     \n",
      ".. topic:: References\n",
      "\n",
      "   - Belsley, Kuh & Welsch, 'Regression diagnostics: Identifying Influential Data and Sources of Collinearity', Wiley, 1980. 244-261.\n",
      "   - Quinlan,R. (1993). Combining Instance-Based and Model-Based Learning. In Proceedings on the Tenth International Conference of Machine Learning, 236-243, University of Massachusetts, Amherst. Morgan Kaufmann.\n",
      "\n"
     ]
    }
   ],
   "source": [
    "#回归问题预测的目标是连续变量\n",
    "\n",
    "#加载数据\n",
    "from sklearn.datasets import load_boston\n",
    "boston=load_boston()\n",
    "print(boston.DESCR)"
   ]
  },
  {
   "cell_type": "code",
   "execution_count": 2,
   "id": "86997232",
   "metadata": {},
   "outputs": [
    {
     "name": "stdout",
     "output_type": "stream",
     "text": [
      "max target value 50.0\n",
      "min target value 5.0\n",
      "average target value 22.532806324110677\n",
      "[[9.29900e-02 0.00000e+00 2.56500e+01 ... 1.91000e+01 3.78090e+02\n",
      "  1.79300e+01]\n",
      " [2.50461e+01 0.00000e+00 1.81000e+01 ... 2.02000e+01 3.96900e+02\n",
      "  2.67700e+01]\n",
      " [7.05042e+00 0.00000e+00 1.81000e+01 ... 2.02000e+01 2.52000e+00\n",
      "  2.32900e+01]\n",
      " ...\n",
      " [1.06120e-01 3.00000e+01 4.93000e+00 ... 1.66000e+01 3.94620e+02\n",
      "  1.24000e+01]\n",
      " [2.44668e+00 0.00000e+00 1.95800e+01 ... 1.47000e+01 8.86300e+01\n",
      "  1.61400e+01]\n",
      " [2.21880e-01 2.00000e+01 6.96000e+00 ... 1.86000e+01 3.90770e+02\n",
      "  6.58000e+00]]\n",
      "[20.5  5.6 13.4 12.6 21.2 19.7 32.4 14.8 33.  21.4 30.1 36.   8.4 21.6\n",
      " 16.3 23.  14.9 14.1 31.1 11.9 12.7 27.9 20.8 19.6 32.  21.9 23.2 23.8\n",
      " 10.8 34.9 19.1 26.5 10.5 17.5 24.  36.1 25.3 13.8 27.5 24.6 12.7  9.5\n",
      " 32.7 13.8 23.5 17.7 15.6 22.5 26.2 20.6 14.1 33.3 15.2 14.9 21.6 17.2\n",
      " 23.1 11.7 20.6 22.2 23.1 18.4 43.8 21.1 14.9 28.7 23.3 13.8 19.7 30.5\n",
      " 19.  19.1 19.  26.6 17.5 21.9 13.8  8.8 19.4 28.1 21.  11.8  7.2 24.1\n",
      " 20.  18.9 50.  13.3 50.  41.3 28.7 19.9 16.5 10.9 13.4 32.9 20.6 25.\n",
      " 19.5 19.9 15.4 21.7 31.5 27.1  8.3 13.6  8.8 22.5  7.5 28.6 50.  11.5\n",
      " 13.5 24.4 36.2 21.4 18.5 22.6 24.8 19.3 29.8 16.4  8.4 24.7 20.1 13.1\n",
      " 35.2]\n"
     ]
    }
   ],
   "source": [
    "#数据分割\n",
    "from sklearn.model_selection import train_test_split\n",
    "import numpy as np\n",
    "x=boston.data\n",
    "y=boston.target\n",
    "\n",
    "x_train, x_test, y_train, y_test=train_test_split(x,y,test_size=0.25,random_state=33)\n",
    "\n",
    "#分析目标值的差异\n",
    "print('max target value',np.max(boston.target))\n",
    "print('min target value',np.min(boston.target))\n",
    "print('average target value',np.mean(boston.target))\n",
    "print(x_test)\n",
    "print(y_test)"
   ]
  },
  {
   "cell_type": "code",
   "execution_count": 3,
   "id": "60d10857",
   "metadata": {},
   "outputs": [],
   "source": [
    "#由上述知房价之间差异大，所以进行标准化\n",
    "from sklearn.preprocessing import StandardScaler\n",
    "\n",
    "ss_x=StandardScaler()\n",
    "ss_y=StandardScaler()\n",
    "\n",
    "x_train=ss_x.fit_transform(x_train)\n",
    "x_test=ss_x.transform(x_test)\n",
    "#先做数据预处理，将数据变成1列\n",
    "#numpy.arange(n).reshape(a, b)    依次生成n个自然数，并且以a行b列的数组形式显示\n",
    "#numpy中reshape函数的三种常见相关用法 reshape(1,-1)转化成1行： reshape(2,-1)转换成两行：\n",
    "#reshape(-1,1)转换成1列： reshape(-1,2)转化成两列\n",
    "y_train = np.array(y_train).reshape(-1, 1)\n",
    "y_train=ss_y.fit_transform(y_train)\n",
    "y_test = np.array(y_test).reshape(-1, 1)\n",
    "y_test=ss_y.transform(y_test)"
   ]
  },
  {
   "cell_type": "code",
   "execution_count": 8,
   "id": "77e578ac",
   "metadata": {},
   "outputs": [
    {
     "name": "stderr",
     "output_type": "stream",
     "text": [
      "<ipython-input-8-5c402321266c>:6: DataConversionWarning: A column-vector y was passed when a 1d array was expected. Please change the shape of y to (n_samples,), for example using ravel().\n",
      "  rfr.fit(x_train,y_train)\n",
      "<ipython-input-8-5c402321266c>:11: DataConversionWarning: A column-vector y was passed when a 1d array was expected. Please change the shape of y to (n_samples,), for example using ravel().\n",
      "  etr.fit(x_train,y_train)\n",
      "E:\\anaconda\\lib\\site-packages\\sklearn\\utils\\validation.py:63: DataConversionWarning: A column-vector y was passed when a 1d array was expected. Please change the shape of y to (n_samples, ), for example using ravel().\n",
      "  return f(*args, **kwargs)\n"
     ]
    }
   ],
   "source": [
    "#3种模型，我们依次训练看效果\n",
    "from sklearn.ensemble import RandomForestRegressor,ExtraTreesRegressor,GradientBoostingRegressor\n",
    "\n",
    "#使用RandomForestRegressor\n",
    "rfr=RandomForestRegressor()\n",
    "rfr.fit(x_train,y_train)\n",
    "rfr_y_predict=rfr.predict(x_test)\n",
    "\n",
    "#使用ExtraTreesRegressor\n",
    "etr=ExtraTreesRegressor()\n",
    "etr.fit(x_train,y_train)\n",
    "etr_y_predict=etr.predict(x_test)\n",
    "\n",
    "#使用GradientBoostingRegressor\n",
    "gbr=GradientBoostingRegressor()\n",
    "gbr.fit(x_train,y_train)\n",
    "gbr_y_predict=gbr.predict(x_test)"
   ]
  },
  {
   "cell_type": "code",
   "execution_count": 9,
   "id": "98a6661b",
   "metadata": {},
   "outputs": [
    {
     "name": "stdout",
     "output_type": "stream",
     "text": [
      "R-squared value of RandomForestRegressor: 0.8324196360725442\n",
      "mean squared error of ExtraTreesRegressor: 12.994398362204736\n",
      "mean absolute error of GradientBoostingRegressor: 2.3587244094488193\n"
     ]
    }
   ],
   "source": [
    "#性能评估\n",
    "#使用R-squared, MSE, MAE三种指标进行评测\n",
    "from sklearn.metrics import r2_score, mean_absolute_error, mean_squared_error\n",
    "print('R-squared value of RandomForestRegressor:',rfr.score(x_test,y_test))\n",
    "print('mean squared error of ExtraTreesRegressor:',mean_squared_error(ss_y.inverse_transform(y_test),ss_y.inverse_transform(rfr_y_predict)))\n",
    "print('mean absolute error of GradientBoostingRegressor:',mean_absolute_error(ss_y.inverse_transform(y_test),ss_y.inverse_transform(rfr_y_predict)))"
   ]
  },
  {
   "cell_type": "code",
   "execution_count": 18,
   "id": "50070d5b",
   "metadata": {},
   "outputs": [
    {
     "name": "stdout",
     "output_type": "stream",
     "text": [
      "R-squared value of RandomForestRegressor: 0.7988089524237669\n",
      "mean squared error of ExtraTreesRegressor: 15.60061428346458\n",
      "mean absolute error of GradientBoostingRegressor: 2.3548818897637793\n",
      "[['0.0035506767564457953' 'AGE']\n",
      " ['0.013530253811671946' 'B']\n",
      " ['0.015109409951110956' 'CHAS']\n",
      " ['0.017531735263182895' 'CRIM']\n",
      " ['0.017906569411615177' 'DIS']\n",
      " ['0.025994455087456875' 'INDUS']\n",
      " ['0.026896531178864563' 'LSTAT']\n",
      " ['0.02842268640559195' 'NOX']\n",
      " ['0.03982221305305001' 'PTRATIO']\n",
      " ['0.04402849454153562' 'RAD']\n",
      " ['0.05114176920641963' 'RM']\n",
      " ['0.3348154899011001' 'TAX']\n",
      " ['0.38124971543195446' 'ZN']]\n"
     ]
    }
   ],
   "source": [
    "#性能评估\n",
    "#使用R-squared, MSE, MAE三种指标进行评测\n",
    "from sklearn.metrics import r2_score, mean_absolute_error, mean_squared_error\n",
    "print('R-squared value of RandomForestRegressor:',etr.score(x_test,y_test))\n",
    "print('mean squared error of ExtraTreesRegressor:',mean_squared_error(ss_y.inverse_transform(y_test),ss_y.inverse_transform(etr_y_predict)))\n",
    "print('mean absolute error of GradientBoostingRegressor:',mean_absolute_error(ss_y.inverse_transform(y_test),ss_y.inverse_transform(etr_y_predict)))\n",
    "\n",
    "#利用训练好的极端回归森林模型，输出每种特征对预测目标的贡献度\n",
    "#zip() 返回的是一个对象。如需展示列表，需手动 list() 转换。   使用sort按列（axis=0）排序。\n",
    "print(np.sort(list(zip(etr.feature_importances_,boston.feature_names)),axis=0))"
   ]
  },
  {
   "cell_type": "code",
   "execution_count": 11,
   "id": "ebc8b486",
   "metadata": {},
   "outputs": [
    {
     "name": "stdout",
     "output_type": "stream",
     "text": [
      "R-squared value of RandomForestRegressor: 0.833465477870005\n",
      "mean squared error of ExtraTreesRegressor: 12.913302435321958\n",
      "mean absolute error of GradientBoostingRegressor: 2.302243470208564\n"
     ]
    }
   ],
   "source": [
    "#性能评估\n",
    "#使用R-squared, MSE, MAE三种指标进行评测\n",
    "from sklearn.metrics import r2_score, mean_absolute_error, mean_squared_error\n",
    "print('R-squared value of RandomForestRegressor:',gbr.score(x_test,y_test))\n",
    "print('mean squared error of ExtraTreesRegressor:',mean_squared_error(ss_y.inverse_transform(y_test),ss_y.inverse_transform(gbr_y_predict)))\n",
    "print('mean absolute error of GradientBoostingRegressor:',mean_absolute_error(ss_y.inverse_transform(y_test),ss_y.inverse_transform(gbr_y_predict)))"
   ]
  },
  {
   "cell_type": "code",
   "execution_count": null,
   "id": "32029904",
   "metadata": {},
   "outputs": [],
   "source": []
  }
 ],
 "metadata": {
  "kernelspec": {
   "display_name": "Python 3",
   "language": "python",
   "name": "python3"
  },
  "language_info": {
   "codemirror_mode": {
    "name": "ipython",
    "version": 3
   },
   "file_extension": ".py",
   "mimetype": "text/x-python",
   "name": "python",
   "nbconvert_exporter": "python",
   "pygments_lexer": "ipython3",
   "version": "3.8.8"
  }
 },
 "nbformat": 4,
 "nbformat_minor": 5
}
