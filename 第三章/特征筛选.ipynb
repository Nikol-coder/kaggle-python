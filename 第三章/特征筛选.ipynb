{
 "cells": [
  {
   "cell_type": "code",
   "execution_count": 1,
   "id": "5a52b333",
   "metadata": {},
   "outputs": [
    {
     "name": "stdout",
     "output_type": "stream",
     "text": [
      "   row.names pclass  survived  \\\n",
      "0          1    1st         1   \n",
      "1          2    1st         0   \n",
      "2          3    1st         0   \n",
      "3          4    1st         0   \n",
      "4          5    1st         1   \n",
      "\n",
      "                                              name      age     embarked  \\\n",
      "0                     Allen, Miss Elisabeth Walton  29.0000  Southampton   \n",
      "1                      Allison, Miss Helen Loraine   2.0000  Southampton   \n",
      "2              Allison, Mr Hudson Joshua Creighton  30.0000  Southampton   \n",
      "3  Allison, Mrs Hudson J.C. (Bessie Waldo Daniels)  25.0000  Southampton   \n",
      "4                    Allison, Master Hudson Trevor   0.9167  Southampton   \n",
      "\n",
      "                         home.dest room      ticket   boat     sex  \n",
      "0                     St Louis, MO  B-5  24160 L221      2  female  \n",
      "1  Montreal, PQ / Chesterville, ON  C26         NaN    NaN  female  \n",
      "2  Montreal, PQ / Chesterville, ON  C26         NaN  (135)    male  \n",
      "3  Montreal, PQ / Chesterville, ON  C26         NaN    NaN  female  \n",
      "4  Montreal, PQ / Chesterville, ON  C22         NaN     11    male  \n"
     ]
    }
   ],
   "source": [
    "import pandas as pd\n",
    "titanic=pd.read_csv('./titanic.txt')\n",
    "print(titanic.head())"
   ]
  },
  {
   "cell_type": "code",
   "execution_count": 2,
   "id": "ccafbc09",
   "metadata": {},
   "outputs": [
    {
     "name": "stdout",
     "output_type": "stream",
     "text": [
      "<class 'pandas.core.frame.DataFrame'>\n",
      "RangeIndex: 1313 entries, 0 to 1312\n",
      "Data columns (total 11 columns):\n",
      " #   Column     Non-Null Count  Dtype  \n",
      "---  ------     --------------  -----  \n",
      " 0   row.names  1313 non-null   int64  \n",
      " 1   pclass     1313 non-null   object \n",
      " 2   survived   1313 non-null   int64  \n",
      " 3   name       1313 non-null   object \n",
      " 4   age        633 non-null    float64\n",
      " 5   embarked   821 non-null    object \n",
      " 6   home.dest  754 non-null    object \n",
      " 7   room       77 non-null     object \n",
      " 8   ticket     69 non-null     object \n",
      " 9   boat       347 non-null    object \n",
      " 10  sex        1313 non-null   object \n",
      "dtypes: float64(1), int64(2), object(8)\n",
      "memory usage: 113.0+ KB\n"
     ]
    }
   ],
   "source": [
    "titanic.info()\n",
    "#dataframe"
   ]
  },
  {
   "cell_type": "code",
   "execution_count": 3,
   "id": "490b72c0",
   "metadata": {},
   "outputs": [],
   "source": [
    "#填充数据\n",
    "y=titanic['survived']\n",
    "x=titanic.drop(['row.names','name','survived'],axis=1) #移除无关数据\n",
    "x['age'].fillna(x['age'].mean(),inplace=True)\n",
    "x.fillna('UNKNOWN',inplace=True)\n"
   ]
  },
  {
   "cell_type": "code",
   "execution_count": 4,
   "id": "7b5ed0f5",
   "metadata": {},
   "outputs": [],
   "source": [
    "#分割数据\n",
    "from sklearn.model_selection import train_test_split\n",
    "x_train, x_test, y_train, y_test=train_test_split(x,y,test_size=0.25,random_state=33)"
   ]
  },
  {
   "cell_type": "code",
   "execution_count": 5,
   "id": "9c665e39",
   "metadata": {},
   "outputs": [
    {
     "name": "stdout",
     "output_type": "stream",
     "text": [
      "474\n"
     ]
    },
    {
     "name": "stderr",
     "output_type": "stream",
     "text": [
      "E:\\anaconda\\lib\\site-packages\\pandas\\core\\frame.py:1549: FutureWarning: Using short name for 'orient' is deprecated. Only the options: ('dict', list, 'series', 'split', 'records', 'index') will be used in a future version. Use one of the above to silence this warning.\n",
      "  warnings.warn(\n"
     ]
    }
   ],
   "source": [
    "#类别特征向量化\n",
    "from sklearn.feature_extraction import DictVectorizer\n",
    "vec=DictVectorizer()\n",
    "#pd转换字典：x_train.to_dict(orient=\"records\")\n",
    "x_train=vec.fit_transform(x_train.to_dict(orient='record'))\n",
    "x_test=vec.transform(x_test.to_dict(orient='record'))\n",
    "\n",
    "#处理后的维度\n",
    "print(len(vec.feature_names_))"
   ]
  },
  {
   "cell_type": "code",
   "execution_count": 6,
   "id": "8e82b58a",
   "metadata": {},
   "outputs": [
    {
     "data": {
      "text/plain": [
       "0.8328267477203647"
      ]
     },
     "execution_count": 6,
     "metadata": {},
     "output_type": "execute_result"
    }
   ],
   "source": [
    "#使用决策树模型进行预测和评估\n",
    "from sklearn.tree import DecisionTreeClassifier\n",
    "dt=DecisionTreeClassifier(criterion='entropy')\n",
    "dt.fit(x_train,y_train)\n",
    "dt.score(x_test,y_test)"
   ]
  },
  {
   "cell_type": "code",
   "execution_count": 7,
   "id": "9a574cb6",
   "metadata": {},
   "outputs": [
    {
     "data": {
      "text/plain": [
       "0.817629179331307"
      ]
     },
     "execution_count": 7,
     "metadata": {},
     "output_type": "execute_result"
    }
   ],
   "source": [
    "#特征筛选\n",
    "from sklearn import feature_selection\n",
    "#筛选前20%的特征，依然用决策树预测\n",
    "fs=feature_selection.SelectPercentile(feature_selection.chi2,percentile=20)\n",
    "x_train_fs=fs.fit_transform(x_train,y_train)\n",
    "x_test_fs=fs.transform(x_test)\n",
    "dt.fit(x_train_fs,y_train)\n",
    "dt.score(x_test_fs,y_test)"
   ]
  },
  {
   "cell_type": "code",
   "execution_count": 9,
   "id": "118f0234",
   "metadata": {},
   "outputs": [
    {
     "name": "stdout",
     "output_type": "stream",
     "text": [
      "[0.85064229 0.85673884 0.87502849 0.88621154 0.86484513 0.86381954\n",
      " 0.86992127 0.86890086 0.86890604 0.87195172 0.86585517 0.8709365\n",
      " 0.86484513 0.86890604 0.86179426 0.86484513 0.86687558 0.86383508\n",
      " 0.86382472 0.86179426 0.8597638  0.85976898 0.86483995 0.86382472\n",
      " 0.86891122 0.86586553 0.87095722 0.87094168 0.86586553 0.87095204\n",
      " 0.87095722 0.86993163 0.87501813 0.87093132 0.87297213 0.86992645\n",
      " 0.86993163 0.87399772 0.86790117 0.86789599 0.86585517 0.87095722\n",
      " 0.86587071 0.86281467 0.86280431 0.86179426 0.85772299 0.8587434\n",
      " 0.86687558 0.86178908]\n",
      "Optimal feature:7\n"
     ]
    }
   ],
   "source": [
    "#交叉验证 按照固定百分比间隔筛选特征\n",
    "from sklearn.model_selection import cross_val_score\n",
    "import numpy as np\n",
    "percentiles=range(1,100,2)\n",
    "results=[]\n",
    "\n",
    "for i in percentiles:\n",
    "    fs=feature_selection.SelectPercentile(feature_selection.chi2,percentile=i)\n",
    "    x_train_fs=fs.fit_transform(x_train,y_train)\n",
    "    scores=cross_val_score(dt,x_train_fs,y_train,cv=5)\n",
    "    results=np.append(results,scores.mean())\n",
    "print(results)\n",
    "\n",
    "#找到最佳性能对应的百分比\n",
    "opt=np.where(results==results.max())[0][0]\n",
    "print('Optimal feature:%d'%percentiles[opt])"
   ]
  },
  {
   "cell_type": "code",
   "execution_count": 10,
   "id": "cd69d2f3",
   "metadata": {},
   "outputs": [
    {
     "data": {
      "image/png": "[encoded data removed]",
      "text/plain": [
       "<Figure size 432x288 with 1 Axes>"
      ]
     },
     "metadata": {
      "needs_background": "light"
     },
     "output_type": "display_data"
    }
   ],
   "source": [
    "#画图\n",
    "import pylab as pl\n",
    "pl.plot(percentiles,results)\n",
    "pl.xlabel('percentiles of features')\n",
    "pl.ylabel('accuracy')\n",
    "pl.show()"
   ]
  },
  {
   "cell_type": "code",
   "execution_count": 11,
   "id": "e23bb455",
   "metadata": {},
   "outputs": [
    {
     "data": {
      "text/plain": [
       "0.8571428571428571"
      ]
     },
     "execution_count": 11,
     "metadata": {},
     "output_type": "execute_result"
    }
   ],
   "source": [
    "#使用最佳特征\n",
    "\n",
    "from sklearn import feature_selection\n",
    "#筛选前20%的特征，依然用决策树预测\n",
    "fs=feature_selection.SelectPercentile(feature_selection.chi2,percentile=7)\n",
    "x_train_fs=fs.fit_transform(x_train,y_train)\n",
    "x_test_fs=fs.transform(x_test)\n",
    "dt.fit(x_train_fs,y_train)\n",
    "dt.score(x_test_fs,y_test)"
   ]
  },
  {
   "cell_type": "code",
   "execution_count": null,
   "id": "b8813aa0",
   "metadata": {},
   "outputs": [],
   "source": []
  }
 ],
 "metadata": {
  "kernelspec": {
   "display_name": "Python 3",
   "language": "python",
   "name": "python3"
  },
  "language_info": {
   "codemirror_mode": {
    "name": "ipython",
    "version": 3
   },
   "file_extension": ".py",
   "mimetype": "text/x-python",
   "name": "python",
   "nbconvert_exporter": "python",
   "pygments_lexer": "ipython3",
   "version": "3.8.8"
  }
 },
 "nbformat": 4,
 "nbformat_minor": 5
}
