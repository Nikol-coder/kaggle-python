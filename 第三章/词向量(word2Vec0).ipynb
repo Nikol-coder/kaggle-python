{
 "cells": [
  {
   "cell_type": "code",
   "execution_count": 1,
   "id": "453348e1",
   "metadata": {},
   "outputs": [],
   "source": [
    "#导入数据\n",
    "from sklearn.datasets import fetch_20newsgroups\n",
    "news=fetch_20newsgroups(subset='all')\n",
    "X,y=news.data, news.target\n"
   ]
  },
  {
   "cell_type": "code",
   "execution_count": 2,
   "id": "51446e8d",
   "metadata": {},
   "outputs": [],
   "source": [
    "from bs4 import BeautifulSoup\n",
    "import nltk, re"
   ]
  },
  {
   "cell_type": "code",
   "execution_count": 3,
   "id": "15d21179",
   "metadata": {},
   "outputs": [],
   "source": [
    "#将每条新闻的句子剥离出来,并且返回一个句子\n",
    "def news_to_sentences(news):\n",
    "    news_text=BeautifulSoup(news).get_text()\n",
    "    tokenizer=nltk.data.load('tokenizers/punkt/english.pickle')\n",
    "    raw_sentences=tokenizer.tokenize(news_text)\n",
    "    sentences=[]\n",
    "    for sent in raw_sentences:\n",
    "        sentences.append(re.sub('[^a-zA-z]',' ',sent.lower().strip()).split())\n",
    "    return sentences\n",
    "\n"
   ]
  },
  {
   "cell_type": "code",
   "execution_count": 4,
   "id": "09d63a33",
   "metadata": {},
   "outputs": [],
   "source": [
    "sentences=[]\n",
    "\n",
    "#剥离句子，训练\n",
    "for x in X:\n",
    "    sentences+=news_to_sentences(x)"
   ]
  },
  {
   "cell_type": "code",
   "execution_count": 5,
   "id": "ad5fac44",
   "metadata": {},
   "outputs": [
    {
     "name": "stderr",
     "output_type": "stream",
     "text": [
      "E:\\anaconda\\lib\\site-packages\\gensim\\similarities\\__init__.py:15: UserWarning: The gensim.similarities.levenshtein submodule is disabled, because the optional Levenshtein package <https://pypi.org/project/python-Levenshtein/> is unavailable. Install Levenhstein (e.g. `pip install python-Levenshtein`) to suppress this warning.\n",
      "  warnings.warn(msg)\n"
     ]
    }
   ],
   "source": [
    "from gensim.models import word2vec\n",
    "#词向量的纬度\n",
    "num_features=300\n",
    "#词汇的额度\n",
    "min_word_count=20\n",
    "#并行化数量\n",
    "num_workers=2\n",
    "#词向量训练时，上下文窗口大小\n",
    "context=5\n",
    "downsampling=1e-3"
   ]
  },
  {
   "cell_type": "code",
   "execution_count": 7,
   "id": "b24738a1",
   "metadata": {},
   "outputs": [
    {
     "name": "stderr",
     "output_type": "stream",
     "text": [
      "<ipython-input-7-74ea232eb94f>:3: DeprecationWarning: Call to deprecated `init_sims` (Gensim 4.0.0 implemented internal optimizations that make calls to init_sims() unnecessary. init_sims() is now obsoleted and will be completely removed in future versions. See https://github.com/RaRe-Technologies/gensim/wiki/Migrating-from-Gensim-3.x-to-4).\n",
      "  model.init_sims(replace=True) #加快模型训练速度，\n"
     ]
    }
   ],
   "source": [
    "#训练词向量模型\n",
    "model=word2vec.Word2Vec(sentences,workers=num_workers,vector_size=num_features,min_count=min_word_count,window=context,sample=downsampling)\n",
    "model.init_sims(replace=True) #加快模型训练速度，"
   ]
  },
  {
   "cell_type": "code",
   "execution_count": 10,
   "id": "9475fff8",
   "metadata": {},
   "outputs": [
    {
     "data": {
      "text/plain": [
       "[('afternoon', 0.8198807239532471),\n",
       " ('evening', 0.7801409959793091),\n",
       " ('weekend', 0.7744500041007996),\n",
       " ('saturday', 0.7242053747177124),\n",
       " ('friday', 0.7057297825813293),\n",
       " ('sunday', 0.696782112121582),\n",
       " ('night', 0.6858790516853333),\n",
       " ('summer', 0.6618945598602295),\n",
       " ('week', 0.6534996628761292),\n",
       " ('thursday', 0.6434074640274048)]"
      ]
     },
     "execution_count": 10,
     "metadata": {},
     "output_type": "execute_result"
    }
   ],
   "source": [
    "#利用训练好的模型，看文本中morning最相似的10个词汇\n",
    "model.wv.most_similar('morning')"
   ]
  },
  {
   "cell_type": "code",
   "execution_count": 11,
   "id": "53f67ce7",
   "metadata": {},
   "outputs": [
    {
     "data": {
      "text/plain": [
       "[('mail', 0.7134678363800049),\n",
       " ('replies', 0.6776095032691956),\n",
       " ('address', 0.6522341966629028),\n",
       " ('contact', 0.6515761017799377),\n",
       " ('request', 0.6429516077041626),\n",
       " ('send', 0.6296660900115967),\n",
       " ('subscription', 0.6185706853866577),\n",
       " ('listserv', 0.6096134781837463),\n",
       " ('archie', 0.605798602104187),\n",
       " ('compuserve', 0.604825496673584)]"
      ]
     },
     "execution_count": 11,
     "metadata": {},
     "output_type": "execute_result"
    }
   ],
   "source": [
    "model.wv.most_similar('email')"
   ]
  },
  {
   "cell_type": "code",
   "execution_count": null,
   "id": "db7f630a",
   "metadata": {},
   "outputs": [],
   "source": []
  }
 ],
 "metadata": {
  "kernelspec": {
   "display_name": "Python 3",
   "language": "python",
   "name": "python3"
  },
  "language_info": {
   "codemirror_mode": {
    "name": "ipython",
    "version": 3
   },
   "file_extension": ".py",
   "mimetype": "text/x-python",
   "name": "python",
   "nbconvert_exporter": "python",
   "pygments_lexer": "ipython3",
   "version": "3.8.8"
  }
 },
 "nbformat": 4,
 "nbformat_minor": 5
}
