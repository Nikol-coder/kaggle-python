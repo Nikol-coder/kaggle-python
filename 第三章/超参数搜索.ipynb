{
 "cells": [
  {
   "cell_type": "code",
   "execution_count": 1,
   "id": "ad2ac625",
   "metadata": {},
   "outputs": [],
   "source": [
    "#网格搜索 使用并行算法\n",
    "from sklearn.datasets import fetch_20newsgroups\n",
    "import numpy as np\n",
    "\n",
    "#数据读入\n",
    "news=fetch_20newsgroups(subset='all')"
   ]
  },
  {
   "cell_type": "code",
   "execution_count": 2,
   "id": "c64a40db",
   "metadata": {},
   "outputs": [],
   "source": [
    "#数据分割\n",
    "from sklearn.model_selection import train_test_split\n",
    "x_train, x_test, y_train, y_test=train_test_split(news.data[:3000], news.target[:3000], test_size=0.25, random_state=33)"
   ]
  },
  {
   "cell_type": "code",
   "execution_count": 4,
   "id": "e16bfddf",
   "metadata": {},
   "outputs": [],
   "source": [
    "#导入支持向量机（分类）\n",
    "from sklearn.svm import SVC\n",
    "from sklearn.feature_extraction.text import TfidfVectorizer\n",
    "from sklearn.pipeline import Pipeline\n",
    "\n",
    "clf=Pipeline([('vect',TfidfVectorizer(stop_words='english', analyzer='word')),('svc',SVC())])\n",
    "\n",
    "#试验超参数个数为4、3          \n",
    "parameters={'svc_gamma':np.logspace(-2,1,4),'svc_C':np.logspace(-1,1,3)}"
   ]
  },
  {
   "cell_type": "code",
   "execution_count": 12,
   "id": "5f3c4e92",
   "metadata": {},
   "outputs": [
    {
     "name": "stdout",
     "output_type": "stream",
     "text": [
      "Fitting 3 folds for each of 12 candidates, totalling 36 fits\n",
      "[CV] END ........................svc__C=0.1, svc__gamma=0.01; total time=   4.1s\n",
      "[CV] END ........................svc__C=0.1, svc__gamma=0.01; total time=   4.3s\n",
      "[CV] END ........................svc__C=0.1, svc__gamma=0.01; total time=   4.2s\n",
      "[CV] END .........................svc__C=0.1, svc__gamma=0.1; total time=   4.2s\n",
      "[CV] END .........................svc__C=0.1, svc__gamma=0.1; total time=   4.2s\n",
      "[CV] END .........................svc__C=0.1, svc__gamma=0.1; total time=   4.3s\n",
      "[CV] END .........................svc__C=0.1, svc__gamma=1.0; total time=   4.3s\n",
      "[CV] END .........................svc__C=0.1, svc__gamma=1.0; total time=   4.5s\n",
      "[CV] END .........................svc__C=0.1, svc__gamma=1.0; total time=   4.5s\n",
      "[CV] END ........................svc__C=0.1, svc__gamma=10.0; total time=   4.4s\n",
      "[CV] END ........................svc__C=0.1, svc__gamma=10.0; total time=   4.5s\n",
      "[CV] END ........................svc__C=0.1, svc__gamma=10.0; total time=   4.5s\n",
      "[CV] END ........................svc__C=1.0, svc__gamma=0.01; total time=   4.3s\n",
      "[CV] END ........................svc__C=1.0, svc__gamma=0.01; total time=   4.4s\n",
      "[CV] END ........................svc__C=1.0, svc__gamma=0.01; total time=   4.4s\n",
      "[CV] END .........................svc__C=1.0, svc__gamma=0.1; total time=   4.3s\n",
      "[CV] END .........................svc__C=1.0, svc__gamma=0.1; total time=   4.3s\n",
      "[CV] END .........................svc__C=1.0, svc__gamma=0.1; total time=   4.3s\n",
      "[CV] END .........................svc__C=1.0, svc__gamma=1.0; total time=   4.3s\n",
      "[CV] END .........................svc__C=1.0, svc__gamma=1.0; total time=   4.4s\n",
      "[CV] END .........................svc__C=1.0, svc__gamma=1.0; total time=   4.4s\n",
      "[CV] END ........................svc__C=1.0, svc__gamma=10.0; total time=   4.5s\n",
      "[CV] END ........................svc__C=1.0, svc__gamma=10.0; total time=   4.4s\n",
      "[CV] END ........................svc__C=1.0, svc__gamma=10.0; total time=   4.4s\n",
      "[CV] END .......................svc__C=10.0, svc__gamma=0.01; total time=   4.3s\n",
      "[CV] END .......................svc__C=10.0, svc__gamma=0.01; total time=   4.3s\n",
      "[CV] END .......................svc__C=10.0, svc__gamma=0.01; total time=   4.3s\n",
      "[CV] END ........................svc__C=10.0, svc__gamma=0.1; total time=   4.2s\n",
      "[CV] END ........................svc__C=10.0, svc__gamma=0.1; total time=   4.3s\n",
      "[CV] END ........................svc__C=10.0, svc__gamma=0.1; total time=   4.3s\n",
      "[CV] END ........................svc__C=10.0, svc__gamma=1.0; total time=   4.2s\n",
      "[CV] END ........................svc__C=10.0, svc__gamma=1.0; total time=   4.4s\n",
      "[CV] END ........................svc__C=10.0, svc__gamma=1.0; total time=   4.4s\n",
      "[CV] END .......................svc__C=10.0, svc__gamma=10.0; total time=   4.3s\n",
      "[CV] END .......................svc__C=10.0, svc__gamma=10.0; total time=   4.3s\n",
      "[CV] END .......................svc__C=10.0, svc__gamma=10.0; total time=   4.4s\n",
      "Wall time: 2min 47s\n",
      "0.8226666666666667\n"
     ]
    }
   ],
   "source": [
    "#导入网格搜索模块\n",
    "from sklearn.model_selection import GridSearchCV\n",
    "\n",
    "gs=GridSearchCV(clf,parameters,verbose=2,refit=True,cv=3)\n",
    "\n",
    "#执行单线程网格搜索\n",
    "%time _= gs.fit(x_train, y_train)\n",
    "\n",
    "gs.best_params_, gs.best_score_\n",
    "\n",
    "#输出最佳模型准确性\n",
    "print(gs.score(x_test,y_test))\n",
    "\n"
   ]
  },
  {
   "cell_type": "code",
   "execution_count": null,
   "id": "78cd263b",
   "metadata": {},
   "outputs": [],
   "source": []
  }
 ],
 "metadata": {
  "kernelspec": {
   "display_name": "Python 3",
   "language": "python",
   "name": "python3"
  },
  "language_info": {
   "codemirror_mode": {
    "name": "ipython",
    "version": 3
   },
   "file_extension": ".py",
   "mimetype": "text/x-python",
   "name": "python",
   "nbconvert_exporter": "python",
   "pygments_lexer": "ipython3",
   "version": "3.8.8"
  }
 },
 "nbformat": 4,
 "nbformat_minor": 5
}
